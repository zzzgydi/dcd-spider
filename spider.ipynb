{
 "cells": [
  {
   "cell_type": "code",
   "execution_count": null,
   "source": [
    "import requests\n",
    "import pandas as pd\n",
    "import time"
   ],
   "outputs": [],
   "metadata": {}
  },
  {
   "cell_type": "code",
   "execution_count": null,
   "source": [
    "# 获取所有品牌列表\n",
    "\n",
    "def get_all_brands():\n",
    "    r = requests.get('https://www.dongchedi.com/motor/pc/car/brand/all_brand')\n",
    "    data = r.json()['data']\n",
    "\n",
    "    brand_list = []\n",
    "    for brand in data['brand']:\n",
    "        if brand['type'] == 1000:\n",
    "            continue\n",
    "        item = {**brand['info']}\n",
    "        del item['image_url']\n",
    "        del item['brand_activity_tag']\n",
    "        del item['discount_tag']\n",
    "        brand_list.append(item)\n",
    "    return brand_list\n",
    "\n",
    "brand_list = get_all_brands()\n",
    "print(len(brand_list))"
   ],
   "outputs": [],
   "metadata": {}
  },
  {
   "cell_type": "code",
   "execution_count": null,
   "source": [
    "# 保存一下所有品牌列表\n",
    "df = pd.DataFrame(brand_list)\n",
    "df.to_csv('./data/all_brands.csv', index=None)"
   ],
   "outputs": [],
   "metadata": {}
  },
  {
   "cell_type": "code",
   "execution_count": null,
   "source": [
    "# 获取每一个牌子的所有车型\n",
    "\n",
    "def get_brand_data(brand_id):\n",
    "    brand_url = 'https://www.dongchedi.com/motor/pc/car/brand/get_brand_series_list'\n",
    "    params = {\n",
    "        'brand_id': brand_id,\n",
    "        'no_sales': 0,\n",
    "        'show_historical_series': 1,\n",
    "        'category_group_optimize': 'true'\n",
    "    }\n",
    "    response = requests.get(brand_url, params=params)\n",
    "    try:\n",
    "        data = response.json()['data']['category_list'][0]\n",
    "        # 判断一下是不是拿的全部\n",
    "        if data['category_name'] != '全部':\n",
    "            print('获取的目录不是全部 -- id:{}'.format(brand_id))\n",
    "        return data['list']\n",
    "    except:\n",
    "        print('请求出错 -- id:{}'.format(brand_id))\n",
    "        return []"
   ],
   "outputs": [],
   "metadata": {}
  },
  {
   "cell_type": "code",
   "execution_count": null,
   "source": [
    "# 保存一个牌子所有的车到csv\n",
    "\n",
    "def save_brand_data(brand_id, brand_name):\n",
    "    # 获取当前牌子的所有车\n",
    "    brand_data_list = get_brand_data(brand_id)\n",
    "\n",
    "    car_type = ''   # 记录车的类型\n",
    "    brand_items = []  # 重新保存一下列表\n",
    "\n",
    "    for item in brand_data_list:\n",
    "        # 这个只是用于声明车的类型\n",
    "        if item['type'] == 1075:\n",
    "            car_type = item['info']['text']\n",
    "\n",
    "        # 判断是否存在忽略了的类型\n",
    "        elif item['type'] != 1002:\n",
    "            print('Error type is ' + item['type'])\n",
    "\n",
    "        # 保存该车的信息\n",
    "        else:\n",
    "            item_info = item['info']\n",
    "            item_info['unique_id'] = item['unique_id']\n",
    "            item_info['brand_id'] = brand_id\n",
    "            item_info['brand_name'] = brand_name\n",
    "            item_info['car_type'] = car_type\n",
    "            brand_items.append(item_info)\n",
    "\n",
    "    # 保存成csv\n",
    "    brand_df = pd.DataFrame(brand_items)\n",
    "    brand_df.to_csv('./data/brand_{}.csv'.format(brand_id), index=None)\n",
    "\n"
   ],
   "outputs": [],
   "metadata": {}
  },
  {
   "cell_type": "code",
   "execution_count": null,
   "source": [
    "for index, brand in enumerate(brand_list):\n",
    "    brand_id = brand['brand_id']\n",
    "    brand_name = brand['brand_name']\n",
    "\n",
    "    save_brand_data(brand_id, brand_name)\n",
    "    print('[Info]: 完成 {} -- id:{}'.format(index, brand_id))\n",
    "\n",
    "    # 等个两秒钟\n",
    "    time.sleep(2)\n"
   ],
   "outputs": [],
   "metadata": {}
  }
 ],
 "metadata": {
  "orig_nbformat": 4,
  "language_info": {
   "name": "python",
   "version": "3.7.10",
   "mimetype": "text/x-python",
   "codemirror_mode": {
    "name": "ipython",
    "version": 3
   },
   "pygments_lexer": "ipython3",
   "nbconvert_exporter": "python",
   "file_extension": ".py"
  },
  "kernelspec": {
   "name": "python3",
   "display_name": "Python 3.7.10 64-bit ('base': conda)"
  },
  "interpreter": {
   "hash": "6f8ee94c255eb1f45edb80e83721093c1db1e2ea85447c0854292673b957abb8"
  }
 },
 "nbformat": 4,
 "nbformat_minor": 2
}